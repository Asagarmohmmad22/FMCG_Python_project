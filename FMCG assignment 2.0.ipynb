{
 "cells": [
  {
   "cell_type": "markdown",
   "id": "8dc27d62-ee8c-4469-ab54-82e83ead024d",
   "metadata": {},
   "source": [
    "# FMCG Produscts Analysis"
   ]
  },
  {
   "cell_type": "markdown",
   "id": "140ccc07-a9e8-43a9-94a8-18bd7db881f2",
   "metadata": {},
   "source": [
    "# Q1. Monthwise number of quantities sold\n"
   ]
  },
  {
   "cell_type": "code",
   "execution_count": 108,
   "id": "39ad2514-1e1d-4e5b-baa7-1009a34fd27a",
   "metadata": {},
   "outputs": [],
   "source": [
    "import numpy as np\n",
    "import pandas as pd # first import numpay and pandas \n"
   ]
  },
  {
   "cell_type": "code",
   "execution_count": 55,
   "id": "07c613d3-3098-4135-bf42-9aa1bca22ead",
   "metadata": {},
   "outputs": [
    {
     "data": {
      "text/html": [
       "<div>\n",
       "<style scoped>\n",
       "    .dataframe tbody tr th:only-of-type {\n",
       "        vertical-align: middle;\n",
       "    }\n",
       "\n",
       "    .dataframe tbody tr th {\n",
       "        vertical-align: top;\n",
       "    }\n",
       "\n",
       "    .dataframe thead th {\n",
       "        text-align: right;\n",
       "    }\n",
       "</style>\n",
       "<table border=\"1\" class=\"dataframe\">\n",
       "  <thead>\n",
       "    <tr style=\"text-align: right;\">\n",
       "      <th></th>\n",
       "      <th>Month</th>\n",
       "      <th>Channel</th>\n",
       "      <th>Sub-Channels</th>\n",
       "      <th>Product Name</th>\n",
       "      <th>Category</th>\n",
       "      <th>Qty</th>\n",
       "      <th>Sales</th>\n",
       "    </tr>\n",
       "  </thead>\n",
       "  <tbody>\n",
       "    <tr>\n",
       "      <th>0</th>\n",
       "      <td>01-Dec-20</td>\n",
       "      <td>Marketplace</td>\n",
       "      <td>AMAZON</td>\n",
       "      <td>ALOE + AMLA JUICE 1 L</td>\n",
       "      <td>Juices</td>\n",
       "      <td>1,116</td>\n",
       "      <td>4,28,700</td>\n",
       "    </tr>\n",
       "    <tr>\n",
       "      <th>1</th>\n",
       "      <td>01-Dec-20</td>\n",
       "      <td>Marketplace</td>\n",
       "      <td>AMAZON</td>\n",
       "      <td>ALOE + GARCINIA JUICE 1 L</td>\n",
       "      <td>Juices</td>\n",
       "      <td>3,003</td>\n",
       "      <td>13,74,831</td>\n",
       "    </tr>\n",
       "    <tr>\n",
       "      <th>2</th>\n",
       "      <td>01-Dec-20</td>\n",
       "      <td>Marketplace</td>\n",
       "      <td>AMAZON</td>\n",
       "      <td>ALOE VERA JUICE 1 L</td>\n",
       "      <td>Juices</td>\n",
       "      <td>2,962</td>\n",
       "      <td>7,32,167</td>\n",
       "    </tr>\n",
       "  </tbody>\n",
       "</table>\n",
       "</div>"
      ],
      "text/plain": [
       "       Month      Channel Sub-Channels               Product Name Category  \\\n",
       "0  01-Dec-20  Marketplace       AMAZON      ALOE + AMLA JUICE 1 L   Juices   \n",
       "1  01-Dec-20  Marketplace       AMAZON  ALOE + GARCINIA JUICE 1 L   Juices   \n",
       "2  01-Dec-20  Marketplace       AMAZON        ALOE VERA JUICE 1 L   Juices   \n",
       "\n",
       "       Qty        Sales  \n",
       "0   1,116     4,28,700   \n",
       "1   3,003    13,74,831   \n",
       "2   2,962     7,32,167   "
      ]
     },
     "execution_count": 55,
     "metadata": {},
     "output_type": "execute_result"
    }
   ],
   "source": [
    "raw = pd.read_csv(\"Raw Sales Data.csv\") # here we are read our data file \n",
    "raw.head(3)"
   ]
  },
  {
   "cell_type": "code",
   "execution_count": 4,
   "id": "31b5b3f3-5085-41c1-8cca-4fd44fc5ae88",
   "metadata": {},
   "outputs": [
    {
     "data": {
      "text/plain": [
       "1568"
      ]
     },
     "execution_count": 4,
     "metadata": {},
     "output_type": "execute_result"
    }
   ],
   "source": [
    "raw.size # cheak size"
   ]
  },
  {
   "cell_type": "code",
   "execution_count": 5,
   "id": "b9a22188-af59-4216-91b6-679554f3fc81",
   "metadata": {},
   "outputs": [
    {
     "data": {
      "text/plain": [
       "(224, 7)"
      ]
     },
     "execution_count": 5,
     "metadata": {},
     "output_type": "execute_result"
    }
   ],
   "source": [
    "raw.shape # cheak shape "
   ]
  },
  {
   "cell_type": "code",
   "execution_count": 6,
   "id": "041bdabb-3577-4d26-98c5-380ab3036108",
   "metadata": {},
   "outputs": [
    {
     "name": "stdout",
     "output_type": "stream",
     "text": [
      "<class 'pandas.core.frame.DataFrame'>\n",
      "RangeIndex: 224 entries, 0 to 223\n",
      "Data columns (total 7 columns):\n",
      " #   Column        Non-Null Count  Dtype \n",
      "---  ------        --------------  ----- \n",
      " 0   Month         224 non-null    object\n",
      " 1   Channel       224 non-null    object\n",
      " 2   Sub-Channels  224 non-null    object\n",
      " 3   Product Name  224 non-null    object\n",
      " 4   Category      224 non-null    object\n",
      " 5   Qty           224 non-null    object\n",
      " 6   Sales         224 non-null    object\n",
      "dtypes: object(7)\n",
      "memory usage: 12.4+ KB\n"
     ]
    }
   ],
   "source": [
    "raw.info() # here we are cheak all imfo and all datatype is object and our dataset not have NaN values or blank column "
   ]
  },
  {
   "cell_type": "code",
   "execution_count": 56,
   "id": "db3f19ca-073a-44eb-a8d9-ee20931a974a",
   "metadata": {},
   "outputs": [],
   "source": [
    "raw[\"Qty\"] = raw['Qty'].str.replace(',','') # first i am  replce , to space from qty "
   ]
  },
  {
   "cell_type": "code",
   "execution_count": 57,
   "id": "b3ad216b-b493-40b4-8813-f902b39a9e51",
   "metadata": {},
   "outputs": [],
   "source": [
    "raw['Sales'] = raw['Sales'].str.replace(',','') # first i am replce , to space from sales\n"
   ]
  },
  {
   "cell_type": "code",
   "execution_count": 58,
   "id": "94ec2c7f-d8a4-4f02-8133-08255149713d",
   "metadata": {},
   "outputs": [],
   "source": [
    "raw[\"Qty\"] = raw[\"Qty\"].astype(\"int64\") # then i change qty dytpe is object so i am change it int64"
   ]
  },
  {
   "cell_type": "code",
   "execution_count": 59,
   "id": "668f4855-9bac-4852-8765-587d4eff193d",
   "metadata": {},
   "outputs": [],
   "source": [
    "qty_sum = raw.groupby(\"Month\")[\"Qty\"].sum() # then we groupby and find sum of qty "
   ]
  },
  {
   "cell_type": "code",
   "execution_count": 60,
   "id": "a7e85c48-4f27-4932-812d-e123dbf77db0",
   "metadata": {},
   "outputs": [
    {
     "data": {
      "text/html": [
       "<div>\n",
       "<style scoped>\n",
       "    .dataframe tbody tr th:only-of-type {\n",
       "        vertical-align: middle;\n",
       "    }\n",
       "\n",
       "    .dataframe tbody tr th {\n",
       "        vertical-align: top;\n",
       "    }\n",
       "\n",
       "    .dataframe thead th {\n",
       "        text-align: right;\n",
       "    }\n",
       "</style>\n",
       "<table border=\"1\" class=\"dataframe\">\n",
       "  <thead>\n",
       "    <tr style=\"text-align: right;\">\n",
       "      <th></th>\n",
       "      <th>Qty</th>\n",
       "    </tr>\n",
       "    <tr>\n",
       "      <th>Month</th>\n",
       "      <th></th>\n",
       "    </tr>\n",
       "  </thead>\n",
       "  <tbody>\n",
       "    <tr>\n",
       "      <th>01-Dec-20</th>\n",
       "      <td>85427</td>\n",
       "    </tr>\n",
       "    <tr>\n",
       "      <th>01-Feb-21</th>\n",
       "      <td>76393</td>\n",
       "    </tr>\n",
       "    <tr>\n",
       "      <th>01-Jan-21</th>\n",
       "      <td>67732</td>\n",
       "    </tr>\n",
       "    <tr>\n",
       "      <th>01-Mar-21</th>\n",
       "      <td>80229</td>\n",
       "    </tr>\n",
       "  </tbody>\n",
       "</table>\n",
       "</div>"
      ],
      "text/plain": [
       "             Qty\n",
       "Month           \n",
       "01-Dec-20  85427\n",
       "01-Feb-21  76393\n",
       "01-Jan-21  67732\n",
       "01-Mar-21  80229"
      ]
     },
     "execution_count": 60,
     "metadata": {},
     "output_type": "execute_result"
    }
   ],
   "source": [
    "qty_sum = pd.DataFrame(qty_sum) # 1st Ans\n",
    "qty_sum"
   ]
  },
  {
   "cell_type": "markdown",
   "id": "7ce121c3-98bf-4df3-824a-f169d4057103",
   "metadata": {},
   "source": [
    "# Q2. Category wise Qty sold\n"
   ]
  },
  {
   "cell_type": "code",
   "execution_count": 61,
   "id": "f46313c0-3709-456a-a8a0-0fc2d9fe6331",
   "metadata": {},
   "outputs": [],
   "source": [
    "category_wise_qty_sold = raw.groupby(\"Category\")[\"Qty\"].sum()"
   ]
  },
  {
   "cell_type": "code",
   "execution_count": 62,
   "id": "02728602-f52c-4b48-9980-c979b1630ce2",
   "metadata": {},
   "outputs": [
    {
     "data": {
      "text/html": [
       "<div>\n",
       "<style scoped>\n",
       "    .dataframe tbody tr th:only-of-type {\n",
       "        vertical-align: middle;\n",
       "    }\n",
       "\n",
       "    .dataframe tbody tr th {\n",
       "        vertical-align: top;\n",
       "    }\n",
       "\n",
       "    .dataframe thead th {\n",
       "        text-align: right;\n",
       "    }\n",
       "</style>\n",
       "<table border=\"1\" class=\"dataframe\">\n",
       "  <thead>\n",
       "    <tr style=\"text-align: right;\">\n",
       "      <th></th>\n",
       "      <th>Qty</th>\n",
       "    </tr>\n",
       "    <tr>\n",
       "      <th>Category</th>\n",
       "      <th></th>\n",
       "    </tr>\n",
       "  </thead>\n",
       "  <tbody>\n",
       "    <tr>\n",
       "      <th>Functional nutrition</th>\n",
       "      <td>42354</td>\n",
       "    </tr>\n",
       "    <tr>\n",
       "      <th>Gourmet Nutrition</th>\n",
       "      <td>89279</td>\n",
       "    </tr>\n",
       "    <tr>\n",
       "      <th>Juices</th>\n",
       "      <td>178148</td>\n",
       "    </tr>\n",
       "  </tbody>\n",
       "</table>\n",
       "</div>"
      ],
      "text/plain": [
       "                         Qty\n",
       "Category                    \n",
       "Functional nutrition   42354\n",
       "Gourmet Nutrition      89279\n",
       "Juices                178148"
      ]
     },
     "execution_count": 62,
     "metadata": {},
     "output_type": "execute_result"
    }
   ],
   "source": [
    "category_wise_qty_sold = pd.DataFrame(category_wise_qty_sold)\n",
    "category_wise_qty_sold"
   ]
  },
  {
   "cell_type": "markdown",
   "id": "ddbd2fc3-21a7-4811-8570-13674d26df36",
   "metadata": {},
   "source": [
    "# Q3. Sub-channel wise total sales\n"
   ]
  },
  {
   "cell_type": "code",
   "execution_count": 65,
   "id": "91f51c75-6226-400c-9706-84808acf369d",
   "metadata": {},
   "outputs": [],
   "source": [
    "raw['Sales'] = raw['Sales'].astype('int64')"
   ]
  },
  {
   "cell_type": "code",
   "execution_count": 73,
   "id": "8a83a8c6-3e0b-491f-982b-5bf560f5da50",
   "metadata": {},
   "outputs": [
    {
     "data": {
      "text/html": [
       "<div>\n",
       "<style scoped>\n",
       "    .dataframe tbody tr th:only-of-type {\n",
       "        vertical-align: middle;\n",
       "    }\n",
       "\n",
       "    .dataframe tbody tr th {\n",
       "        vertical-align: top;\n",
       "    }\n",
       "\n",
       "    .dataframe thead th {\n",
       "        text-align: right;\n",
       "    }\n",
       "</style>\n",
       "<table border=\"1\" class=\"dataframe\">\n",
       "  <thead>\n",
       "    <tr style=\"text-align: right;\">\n",
       "      <th></th>\n",
       "      <th>Sales</th>\n",
       "    </tr>\n",
       "    <tr>\n",
       "      <th>Sub-Channels</th>\n",
       "      <th></th>\n",
       "    </tr>\n",
       "  </thead>\n",
       "  <tbody>\n",
       "    <tr>\n",
       "      <th>AMAZON</th>\n",
       "      <td>35606804</td>\n",
       "    </tr>\n",
       "    <tr>\n",
       "      <th>Big Basket</th>\n",
       "      <td>1207522</td>\n",
       "    </tr>\n",
       "    <tr>\n",
       "      <th>D2C</th>\n",
       "      <td>28047538</td>\n",
       "    </tr>\n",
       "    <tr>\n",
       "      <th>Flipkart</th>\n",
       "      <td>3770415</td>\n",
       "    </tr>\n",
       "    <tr>\n",
       "      <th>GOQII</th>\n",
       "      <td>582600</td>\n",
       "    </tr>\n",
       "    <tr>\n",
       "      <th>Offline - Central</th>\n",
       "      <td>375332</td>\n",
       "    </tr>\n",
       "    <tr>\n",
       "      <th>Offline - East</th>\n",
       "      <td>811146</td>\n",
       "    </tr>\n",
       "    <tr>\n",
       "      <th>Offline - MT</th>\n",
       "      <td>6257948</td>\n",
       "    </tr>\n",
       "    <tr>\n",
       "      <th>Offline - South</th>\n",
       "      <td>3446395</td>\n",
       "    </tr>\n",
       "    <tr>\n",
       "      <th>Offline - West</th>\n",
       "      <td>6441427</td>\n",
       "    </tr>\n",
       "    <tr>\n",
       "      <th>Offline -North</th>\n",
       "      <td>1206564</td>\n",
       "    </tr>\n",
       "  </tbody>\n",
       "</table>\n",
       "</div>"
      ],
      "text/plain": [
       "                      Sales\n",
       "Sub-Channels               \n",
       "AMAZON             35606804\n",
       "Big Basket          1207522\n",
       "D2C                28047538\n",
       "Flipkart            3770415\n",
       "GOQII                582600\n",
       "Offline - Central    375332\n",
       "Offline - East       811146\n",
       "Offline - MT        6257948\n",
       "Offline - South     3446395\n",
       "Offline - West      6441427\n",
       "Offline -North      1206564"
      ]
     },
     "execution_count": 73,
     "metadata": {},
     "output_type": "execute_result"
    }
   ],
   "source": [
    "subchannel_wise_sales = raw.groupby(\"Sub-Channels\")[\"Sales\"].sum()\n",
    "subchannel_wise_sales = pd.DataFrame(subchannel_wise_sales)\n",
    "subchannel_wise_sales"
   ]
  },
  {
   "cell_type": "markdown",
   "id": "25672c54-a169-4300-a13e-041def78df0a",
   "metadata": {},
   "source": [
    "# 4. Highest sale in which month\n"
   ]
  },
  {
   "cell_type": "code",
   "execution_count": 79,
   "id": "34725459-d263-4291-9d63-de026b87b194",
   "metadata": {},
   "outputs": [
    {
     "data": {
      "text/html": [
       "<div>\n",
       "<style scoped>\n",
       "    .dataframe tbody tr th:only-of-type {\n",
       "        vertical-align: middle;\n",
       "    }\n",
       "\n",
       "    .dataframe tbody tr th {\n",
       "        vertical-align: top;\n",
       "    }\n",
       "\n",
       "    .dataframe thead th {\n",
       "        text-align: right;\n",
       "    }\n",
       "</style>\n",
       "<table border=\"1\" class=\"dataframe\">\n",
       "  <thead>\n",
       "    <tr style=\"text-align: right;\">\n",
       "      <th></th>\n",
       "      <th>Sales</th>\n",
       "    </tr>\n",
       "    <tr>\n",
       "      <th>Month</th>\n",
       "      <th></th>\n",
       "    </tr>\n",
       "  </thead>\n",
       "  <tbody>\n",
       "    <tr>\n",
       "      <th>01-Mar-21</th>\n",
       "      <td>25127827</td>\n",
       "    </tr>\n",
       "  </tbody>\n",
       "</table>\n",
       "</div>"
      ],
      "text/plain": [
       "              Sales\n",
       "Month              \n",
       "01-Mar-21  25127827"
      ]
     },
     "execution_count": 79,
     "metadata": {},
     "output_type": "execute_result"
    }
   ],
   "source": [
    "highest_sale = raw.groupby(\"Month\")[\"Sales\"].sum().nlargest(1)\n",
    "highest_sale = pd.DataFrame(highest_sale)\n",
    "highest_sale\n"
   ]
  },
  {
   "cell_type": "markdown",
   "id": "7a52b60a-cfe1-4659-a935-6a8c9dff9949",
   "metadata": {},
   "source": [
    "# Q5. Highest selling product (based on sales) (packaging quantity doesn't matter. Ex. consider \"GET SLIM JUICE 1 L\" and \"GET SLIM JUICE 500 ML\" as one product)\n"
   ]
  },
  {
   "cell_type": "code",
   "execution_count": 82,
   "id": "64a89e9d-29ec-44ce-8fe7-c5832c3acf1e",
   "metadata": {},
   "outputs": [],
   "source": [
    "raw[\"Product Name\"]=raw[\"Product Name\"].str.split(\"\\d+\").str[0]"
   ]
  },
  {
   "cell_type": "code",
   "execution_count": 86,
   "id": "fa498479-3835-4da4-964b-31e06036d96c",
   "metadata": {},
   "outputs": [
    {
     "data": {
      "text/html": [
       "<div>\n",
       "<style scoped>\n",
       "    .dataframe tbody tr th:only-of-type {\n",
       "        vertical-align: middle;\n",
       "    }\n",
       "\n",
       "    .dataframe tbody tr th {\n",
       "        vertical-align: top;\n",
       "    }\n",
       "\n",
       "    .dataframe thead th {\n",
       "        text-align: right;\n",
       "    }\n",
       "</style>\n",
       "<table border=\"1\" class=\"dataframe\">\n",
       "  <thead>\n",
       "    <tr style=\"text-align: right;\">\n",
       "      <th></th>\n",
       "      <th>Sales</th>\n",
       "    </tr>\n",
       "    <tr>\n",
       "      <th>Product Name</th>\n",
       "      <th></th>\n",
       "    </tr>\n",
       "  </thead>\n",
       "  <tbody>\n",
       "    <tr>\n",
       "      <th>ALOE + GARCINIA JUICE</th>\n",
       "      <td>12249252</td>\n",
       "    </tr>\n",
       "  </tbody>\n",
       "</table>\n",
       "</div>"
      ],
      "text/plain": [
       "                           Sales\n",
       "Product Name                    \n",
       "ALOE + GARCINIA JUICE   12249252"
      ]
     },
     "execution_count": 86,
     "metadata": {},
     "output_type": "execute_result"
    }
   ],
   "source": [
    "highest_sell_produ = raw.groupby(\"Product Name\")[\"Sales\"].sum().nlargest(1)\n",
    "highest_sell_produ = pd.DataFrame(highest_sell_produ)\n",
    "highest_sell_produ\n"
   ]
  },
  {
   "cell_type": "markdown",
   "id": "df72ee58-9ef5-4c33-91e1-432a43d3ac41",
   "metadata": {},
   "source": [
    "# Q6. List of different products company is offering (packaging quantity doesn't matter. Ex. consider \"GET SLIM JUICE 1 L\" and \"GET SLIM JUICE 500 ML\" as one product)"
   ]
  },
  {
   "cell_type": "code",
   "execution_count": 129,
   "id": "abac53ac-b5e3-436b-a454-17cfe7010662",
   "metadata": {},
   "outputs": [
    {
     "data": {
      "text/html": [
       "<div>\n",
       "<style scoped>\n",
       "    .dataframe tbody tr th:only-of-type {\n",
       "        vertical-align: middle;\n",
       "    }\n",
       "\n",
       "    .dataframe tbody tr th {\n",
       "        vertical-align: top;\n",
       "    }\n",
       "\n",
       "    .dataframe thead th {\n",
       "        text-align: right;\n",
       "    }\n",
       "</style>\n",
       "<table border=\"1\" class=\"dataframe\">\n",
       "  <thead>\n",
       "    <tr style=\"text-align: right;\">\n",
       "      <th></th>\n",
       "      <th>unique_product</th>\n",
       "    </tr>\n",
       "  </thead>\n",
       "  <tbody>\n",
       "    <tr>\n",
       "      <th>0</th>\n",
       "      <td>ALOE + AMLA JUICE</td>\n",
       "    </tr>\n",
       "    <tr>\n",
       "      <th>1</th>\n",
       "      <td>ALOE + GARCINIA JUICE</td>\n",
       "    </tr>\n",
       "    <tr>\n",
       "      <th>2</th>\n",
       "      <td>ALOE VERA JUICE</td>\n",
       "    </tr>\n",
       "    <tr>\n",
       "      <th>3</th>\n",
       "      <td>ALOE VERA SKIN GEL</td>\n",
       "    </tr>\n",
       "    <tr>\n",
       "      <th>4</th>\n",
       "      <td>NEEM JUICE</td>\n",
       "    </tr>\n",
       "    <tr>\n",
       "      <th>5</th>\n",
       "      <td>NONI JUICE</td>\n",
       "    </tr>\n",
       "    <tr>\n",
       "      <th>6</th>\n",
       "      <td>SLIM SHAKE - CHOCOLATE</td>\n",
       "    </tr>\n",
       "    <tr>\n",
       "      <th>7</th>\n",
       "      <td>SLIM SHAKE - MANGO</td>\n",
       "    </tr>\n",
       "    <tr>\n",
       "      <th>8</th>\n",
       "      <td>TRIPHALA JUICE</td>\n",
       "    </tr>\n",
       "    <tr>\n",
       "      <th>9</th>\n",
       "      <td>TULSI GILOY JUICE</td>\n",
       "    </tr>\n",
       "    <tr>\n",
       "      <th>10</th>\n",
       "      <td>WHEAT GRASS JUICE</td>\n",
       "    </tr>\n",
       "    <tr>\n",
       "      <th>11</th>\n",
       "      <td>AMLA JUICE</td>\n",
       "    </tr>\n",
       "    <tr>\n",
       "      <th>12</th>\n",
       "      <td>GET SLIM JUICE</td>\n",
       "    </tr>\n",
       "    <tr>\n",
       "      <th>13</th>\n",
       "      <td>HIMALAYA OIL</td>\n",
       "    </tr>\n",
       "    <tr>\n",
       "      <th>14</th>\n",
       "      <td>VIGOR MAX JUICE</td>\n",
       "    </tr>\n",
       "    <tr>\n",
       "      <th>15</th>\n",
       "      <td>ORGANIC JAGGERY POWDER</td>\n",
       "    </tr>\n",
       "    <tr>\n",
       "      <th>16</th>\n",
       "      <td>APPLE CIDER VINEGAR</td>\n",
       "    </tr>\n",
       "    <tr>\n",
       "      <th>17</th>\n",
       "      <td>VIRGIN COCONUT OIL</td>\n",
       "    </tr>\n",
       "    <tr>\n",
       "      <th>18</th>\n",
       "      <td>KARELA JAMUN JUICE</td>\n",
       "    </tr>\n",
       "    <tr>\n",
       "      <th>19</th>\n",
       "      <td>MASALA SUPERGRAIN MIX ENERGY</td>\n",
       "    </tr>\n",
       "    <tr>\n",
       "      <th>20</th>\n",
       "      <td>MASALA SUPERGRAIN MIX IMMUNITY</td>\n",
       "    </tr>\n",
       "    <tr>\n",
       "      <th>21</th>\n",
       "      <td>AMLA + GILOY JUICE</td>\n",
       "    </tr>\n",
       "    <tr>\n",
       "      <th>22</th>\n",
       "      <td>DIA FREE JUICE</td>\n",
       "    </tr>\n",
       "    <tr>\n",
       "      <th>23</th>\n",
       "      <td>IMMUNE CARE JUICE</td>\n",
       "    </tr>\n",
       "    <tr>\n",
       "      <th>24</th>\n",
       "      <td>ORGANIC GULKAND</td>\n",
       "    </tr>\n",
       "    <tr>\n",
       "      <th>25</th>\n",
       "      <td>VEGAN PROTEIN - CHOCOLATE</td>\n",
       "    </tr>\n",
       "    <tr>\n",
       "      <th>26</th>\n",
       "      <td>GET SLIM CAPSULES</td>\n",
       "    </tr>\n",
       "    <tr>\n",
       "      <th>27</th>\n",
       "      <td>RAW HONEY ( MADHU)</td>\n",
       "    </tr>\n",
       "  </tbody>\n",
       "</table>\n",
       "</div>"
      ],
      "text/plain": [
       "                     unique_product\n",
       "0                ALOE + AMLA JUICE \n",
       "1            ALOE + GARCINIA JUICE \n",
       "2                  ALOE VERA JUICE \n",
       "3               ALOE VERA SKIN GEL \n",
       "4                       NEEM JUICE \n",
       "5                       NONI JUICE \n",
       "6           SLIM SHAKE - CHOCOLATE \n",
       "7               SLIM SHAKE - MANGO \n",
       "8                   TRIPHALA JUICE \n",
       "9                TULSI GILOY JUICE \n",
       "10               WHEAT GRASS JUICE \n",
       "11                      AMLA JUICE \n",
       "12                  GET SLIM JUICE \n",
       "13                    HIMALAYA OIL \n",
       "14                 VIGOR MAX JUICE \n",
       "15          ORGANIC JAGGERY POWDER \n",
       "16              APPLE CIDER VINEGAR\n",
       "17              VIRGIN COCONUT OIL \n",
       "18              KARELA JAMUN JUICE \n",
       "19    MASALA SUPERGRAIN MIX ENERGY \n",
       "20  MASALA SUPERGRAIN MIX IMMUNITY \n",
       "21              AMLA + GILOY JUICE \n",
       "22                  DIA FREE JUICE \n",
       "23               IMMUNE CARE JUICE \n",
       "24                 ORGANIC GULKAND \n",
       "25       VEGAN PROTEIN - CHOCOLATE \n",
       "26               GET SLIM CAPSULES \n",
       "27              RAW HONEY ( MADHU) "
      ]
     },
     "execution_count": 129,
     "metadata": {},
     "output_type": "execute_result"
    }
   ],
   "source": [
    "unique_products = raw['Product Name'].unique().tolist()\n",
    "unique_products = pd.DataFrame({\"unique_product\" : unique_products})\n",
    "unique_products"
   ]
  },
  {
   "cell_type": "code",
   "execution_count": 130,
   "id": "ecba1d7a-d0ed-4c3c-8dd8-afe2e197631c",
   "metadata": {},
   "outputs": [],
   "source": [
    "writer = pd.ExcelWriter(\"FMCG_Output_File.xlsx\")\n",
    "\n",
    "qty_sum.to_excel(writer, sheet_name='qty_sum')\n",
    "category_wise_qty_sold.to_excel(writer, sheet_name='category_wise_qty_sold')\n",
    "subchannel_wise_sales.to_excel(writer, sheet_name='subchannel_wise_sales')\n",
    "highest_sale.to_excel(writer, sheet_name='highest_sale')\n",
    "highest_sell_produ.to_excel(writer, sheet_name='highest_sell_produ')\n",
    "unique_products.to_excel(writer, sheet_name='unique_products',index=False)\n",
    "\n",
    "writer.close() # The save() method has been deprecated and removed in Pandas. You should use close() instead."
   ]
  },
  {
   "cell_type": "code",
   "execution_count": null,
   "id": "8c141b33-a367-4fb6-aa3a-00e4e04b35d8",
   "metadata": {},
   "outputs": [],
   "source": []
  }
 ],
 "metadata": {
  "kernelspec": {
   "display_name": "Python 3 (ipykernel)",
   "language": "python",
   "name": "python3"
  },
  "language_info": {
   "codemirror_mode": {
    "name": "ipython",
    "version": 3
   },
   "file_extension": ".py",
   "mimetype": "text/x-python",
   "name": "python",
   "nbconvert_exporter": "python",
   "pygments_lexer": "ipython3",
   "version": "3.10.11"
  }
 },
 "nbformat": 4,
 "nbformat_minor": 5
}
